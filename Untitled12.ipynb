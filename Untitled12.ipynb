{
  "nbformat": 4,
  "nbformat_minor": 0,
  "metadata": {
    "colab": {
      "name": "Untitled12.ipynb",
      "provenance": [],
      "collapsed_sections": [],
      "authorship_tag": "ABX9TyNemTr+jc2t5Jp/TXO+vWPM",
      "include_colab_link": true
    },
    "kernelspec": {
      "name": "python3",
      "display_name": "Python 3"
    },
    "language_info": {
      "name": "python"
    },
    "accelerator": "GPU"
  },
  "cells": [
    {
      "cell_type": "markdown",
      "metadata": {
        "id": "view-in-github",
        "colab_type": "text"
      },
      "source": [
        "<a href=\"https://colab.research.google.com/github/jwon1991/KoBERT/blob/main/Untitled12.ipynb\" target=\"_parent\"><img src=\"https://colab.research.google.com/assets/colab-badge.svg\" alt=\"Open In Colab\"/></a>"
      ]
    },
    {
      "cell_type": "code",
      "metadata": {
        "id": "SrHOxpo38R63"
      },
      "source": [
        "!pip install pororo"
      ],
      "execution_count": null,
      "outputs": []
    },
    {
      "cell_type": "code",
      "metadata": {
        "id": "gU7ZrhfU8ULR"
      },
      "source": [
        "!git clone https://github.com/kakaobrain/pororo.git"
      ],
      "execution_count": null,
      "outputs": []
    },
    {
      "cell_type": "code",
      "metadata": {
        "colab": {
          "base_uri": "https://localhost:8080/"
        },
        "id": "VdB6HVzP9W1Q",
        "outputId": "cd55b9b3-b436-4520-dead-05fe5984d8b8"
      },
      "source": [
        "cd pororo"
      ],
      "execution_count": 3,
      "outputs": [
        {
          "output_type": "stream",
          "text": [
            "/content/pororo\n"
          ],
          "name": "stdout"
        }
      ]
    },
    {
      "cell_type": "code",
      "metadata": {
        "id": "FGv20Scu9X9X"
      },
      "source": [
        "pip install -e ."
      ],
      "execution_count": null,
      "outputs": []
    },
    {
      "cell_type": "code",
      "metadata": {
        "colab": {
          "base_uri": "https://localhost:8080/"
        },
        "id": "ZJR82C7O9YjP",
        "outputId": "b7d9d0b5-bbe0-44d8-8eb9-d6070708b6cf"
      },
      "source": [
        "from pororo import Pororo"
      ],
      "execution_count": 5,
      "outputs": [
        {
          "output_type": "stream",
          "text": [
            "[Korean Sentence Splitter]: Initializing Kss...\n"
          ],
          "name": "stderr"
        }
      ]
    },
    {
      "cell_type": "code",
      "metadata": {
        "id": "eO9aF70P9ziE"
      },
      "source": [
        "Pororo.available_tasks()"
      ],
      "execution_count": null,
      "outputs": []
    },
    {
      "cell_type": "code",
      "metadata": {
        "colab": {
          "base_uri": "https://localhost:8080/",
          "height": 35
        },
        "id": "iOCAJZC59jBv",
        "outputId": "995b4a69-9d17-404c-90bc-a8a5828596b8"
      },
      "source": [
        "Pororo.available_models(\"collocation\")"
      ],
      "execution_count": 7,
      "outputs": [
        {
          "output_type": "execute_result",
          "data": {
            "application/vnd.google.colaboratory.intrinsic+json": {
              "type": "string"
            },
            "text/plain": [
              "'Available models for collocation are ([lang]: ko, [model]: kollocate), ([lang]: en, [model]: collocate.en), ([lang]: ja, [model]: collocate.ja), ([lang]: zh, [model]: collocate.zh)'"
            ]
          },
          "metadata": {},
          "execution_count": 7
        }
      ]
    },
    {
      "cell_type": "code",
      "metadata": {
        "id": "bXLbqGQg-e2U"
      },
      "source": [
        "pip install -v python-mecab-ko"
      ],
      "execution_count": null,
      "outputs": []
    },
    {
      "cell_type": "code",
      "metadata": {
        "id": "zBiLVa0v_AbQ"
      },
      "source": [
        "import mecab"
      ],
      "execution_count": 10,
      "outputs": []
    },
    {
      "cell_type": "code",
      "metadata": {
        "id": "Ikq9bzEvO3mt"
      },
      "source": [
        "import collections"
      ],
      "execution_count": 11,
      "outputs": []
    },
    {
      "cell_type": "code",
      "metadata": {
        "id": "hnj1HpiNC9uX"
      },
      "source": [
        "mecab = mecab.MeCab()"
      ],
      "execution_count": 12,
      "outputs": []
    },
    {
      "cell_type": "code",
      "metadata": {
        "colab": {
          "base_uri": "https://localhost:8080/"
        },
        "id": "DYyID2DRDBPf",
        "outputId": "2d21e72b-1806-4fa1-f8c4-5599a852c095"
      },
      "source": [
        "mecab.morphs('고성능컴퓨팅 클라우드')"
      ],
      "execution_count": 75,
      "outputs": [
        {
          "output_type": "execute_result",
          "data": {
            "text/plain": [
              "['고', '성능', '컴퓨팅', '클라우드']"
            ]
          },
          "metadata": {},
          "execution_count": 75
        }
      ]
    },
    {
      "cell_type": "code",
      "metadata": {
        "id": "FJWVO7MvDCU-"
      },
      "source": [
        "pos = Pororo(task=\"pos\", lang=\"ko\")"
      ],
      "execution_count": 14,
      "outputs": []
    },
    {
      "cell_type": "code",
      "metadata": {
        "id": "W4iKkPr-Ob_M"
      },
      "source": [
        "b = \"NNG\""
      ],
      "execution_count": 100,
      "outputs": []
    },
    {
      "cell_type": "code",
      "metadata": {
        "id": "NWCJRE2POcBL"
      },
      "source": [
        "c = \"NNP\""
      ],
      "execution_count": 101,
      "outputs": []
    },
    {
      "cell_type": "code",
      "metadata": {
        "id": "JAINzo_PDJw3"
      },
      "source": [
        "list1 = []"
      ],
      "execution_count": 164,
      "outputs": []
    },
    {
      "cell_type": "code",
      "metadata": {
        "id": "kPISBXhsMSAN"
      },
      "source": [
        "list2 = []"
      ],
      "execution_count": 165,
      "outputs": []
    },
    {
      "cell_type": "code",
      "metadata": {
        "id": "hqk69t-wC-p5"
      },
      "source": [
        "str1 = []"
      ],
      "execution_count": 166,
      "outputs": []
    },
    {
      "cell_type": "code",
      "metadata": {
        "id": "wggQlWHOK95N"
      },
      "source": [
        "list1 = pos(\"자연어로 기술된 수식, 업무규칙 등의 데이터로부터 학습을 통해 컴퓨터에서 작동 가능한 프로그램 언어로 자동 변환할 수 있는 모델을 개발함. 프로그램언어의 오퍼레이션 단위의 내부 코드를 생성할 수 있는 기초 기술을 개발함. 이를 통해 모델기반 소프트웨어 개발과 자동프로그래밍에 활용할 수 있는 기술기반 확보함 자연어로 기술된 수식, 업무규칙 등의 데이터로부터 학습을 통해 컴퓨터에서 작동 가능한 프로그램 언어로 자동 변환이 가능한 인공지능 알고리즘 개발 자연어로 기술된 업무규칙을 프로그램 언어로 자동 변환하는 인공지능 모델을 개발함 자연어로 기술된업무규칙 중에서우선적으로 문법적으로 잘 정의된 수학문제를 인식하고 이를 프로그램 언어로 변환하는 모델을 개발함 자연어 처리기술, 딥러닝, 인공지능 분류모델 기술, 프로그램언어 컴파일/역컴파일 기술을 조합하여 변환프로그램 개발 프로그램언어의 오퍼레이션 단위의 내부 코드를 생성할 수 있는 기초 기술을 개발함. 이를 통해 모델기반 소프트웨어 개발과 자동프로그래밍에 활용할 수 있는 기술기반 확보함 SW개발 시 활용될 수 있는 국내 자동코딩 시장을 개척함 자동 코딩 클라우드 서비스 형태로 개발하면 개발 현장에서 코딩 생산성을 높이고, 개발 패러다임을 바꿀 수 있음\")"
      ],
      "execution_count": 167,
      "outputs": []
    },
    {
      "cell_type": "code",
      "metadata": {
        "colab": {
          "base_uri": "https://localhost:8080/"
        },
        "id": "KWUDZ_hdIFv8",
        "outputId": "cea95f5c-51b5-4582-8e93-c2d354b37092"
      },
      "source": [
        "list1"
      ],
      "execution_count": 168,
      "outputs": [
        {
          "output_type": "execute_result",
          "data": {
            "text/plain": [
              "[('자연', 'NNG'),\n",
              " ('어', 'NNG'),\n",
              " ('로', 'JKB'),\n",
              " (' ', 'SPACE'),\n",
              " ('기술', 'NNG'),\n",
              " ('되', 'XSV'),\n",
              " ('ᆫ', 'ETM'),\n",
              " (' ', 'SPACE'),\n",
              " ('수식', 'NNG'),\n",
              " (',', 'SC'),\n",
              " (' ', 'SPACE'),\n",
              " ('업무', 'NNG'),\n",
              " ('규칙', 'NNG'),\n",
              " (' ', 'SPACE'),\n",
              " ('등', 'NNB'),\n",
              " ('의', 'JKG'),\n",
              " (' ', 'SPACE'),\n",
              " ('데이터', 'NNG'),\n",
              " ('로부터', 'JKB'),\n",
              " (' ', 'SPACE'),\n",
              " ('학습', 'NNG'),\n",
              " ('을', 'JKO'),\n",
              " (' ', 'SPACE'),\n",
              " ('통하', 'VV'),\n",
              " ('아', 'EC'),\n",
              " (' ', 'SPACE'),\n",
              " ('컴퓨터', 'NNG'),\n",
              " ('에서', 'JKB'),\n",
              " (' ', 'SPACE'),\n",
              " ('작동', 'NNG'),\n",
              " (' ', 'SPACE'),\n",
              " ('가능', 'NNG'),\n",
              " ('하', 'XSA'),\n",
              " ('ᆫ', 'ETM'),\n",
              " (' ', 'SPACE'),\n",
              " ('프로그램', 'NNG'),\n",
              " (' ', 'SPACE'),\n",
              " ('언어', 'NNG'),\n",
              " ('로', 'JKB'),\n",
              " (' ', 'SPACE'),\n",
              " ('자동', 'NNG'),\n",
              " (' ', 'SPACE'),\n",
              " ('변환', 'NNG'),\n",
              " ('하', 'XSV'),\n",
              " ('ᆯ', 'ETM'),\n",
              " (' ', 'SPACE'),\n",
              " ('수', 'NNB'),\n",
              " (' ', 'SPACE'),\n",
              " ('있', 'VV'),\n",
              " ('는', 'ETM'),\n",
              " (' ', 'SPACE'),\n",
              " ('모델', 'NNG'),\n",
              " ('을', 'JKO'),\n",
              " (' ', 'SPACE'),\n",
              " ('개발', 'NNG'),\n",
              " ('하', 'XSV'),\n",
              " ('ᄆ', 'ETN'),\n",
              " ('.', 'SF'),\n",
              " (' ', 'SPACE'),\n",
              " ('프로그램', 'NNG'),\n",
              " ('언어', 'NNG'),\n",
              " ('의', 'JKG'),\n",
              " (' ', 'SPACE'),\n",
              " ('오퍼레이션', 'NNG'),\n",
              " (' ', 'SPACE'),\n",
              " ('단위', 'NNG'),\n",
              " ('의', 'JKG'),\n",
              " (' ', 'SPACE'),\n",
              " ('내부', 'NNG'),\n",
              " (' ', 'SPACE'),\n",
              " ('코드', 'NNG'),\n",
              " ('를', 'JKO'),\n",
              " (' ', 'SPACE'),\n",
              " ('생성', 'NNG'),\n",
              " ('하', 'XSV'),\n",
              " ('ᆯ', 'ETM'),\n",
              " (' ', 'SPACE'),\n",
              " ('수', 'NNB'),\n",
              " (' ', 'SPACE'),\n",
              " ('있', 'VV'),\n",
              " ('는', 'ETM'),\n",
              " (' ', 'SPACE'),\n",
              " ('기초', 'NNG'),\n",
              " (' ', 'SPACE'),\n",
              " ('기술', 'NNG'),\n",
              " ('을', 'JKO'),\n",
              " (' ', 'SPACE'),\n",
              " ('개발', 'NNG'),\n",
              " ('하', 'XSV'),\n",
              " ('ᄆ', 'ETN'),\n",
              " ('.', 'SF'),\n",
              " (' ', 'SPACE'),\n",
              " ('이', 'NP'),\n",
              " ('를', 'JKO'),\n",
              " (' ', 'SPACE'),\n",
              " ('통하', 'VV'),\n",
              " ('아', 'EC'),\n",
              " (' ', 'SPACE'),\n",
              " ('모델', 'NNG'),\n",
              " ('기반', 'NNG'),\n",
              " (' ', 'SPACE'),\n",
              " ('소프트웨어', 'NNG'),\n",
              " (' ', 'SPACE'),\n",
              " ('개발', 'NNG'),\n",
              " ('과', 'JC'),\n",
              " (' ', 'SPACE'),\n",
              " ('자동', 'NNG'),\n",
              " ('프로그래밍', 'NNG'),\n",
              " ('에', 'JKB'),\n",
              " (' ', 'SPACE'),\n",
              " ('활용', 'NNG'),\n",
              " ('하', 'XSV'),\n",
              " ('ᆯ', 'ETM'),\n",
              " (' ', 'SPACE'),\n",
              " ('수', 'NNB'),\n",
              " (' ', 'SPACE'),\n",
              " ('있', 'VV'),\n",
              " ('는', 'ETM'),\n",
              " (' ', 'SPACE'),\n",
              " ('기술', 'NNG'),\n",
              " ('기반', 'NNG'),\n",
              " (' ', 'SPACE'),\n",
              " ('확보', 'NNG'),\n",
              " ('하', 'XSV'),\n",
              " ('ᄆ', 'ETN'),\n",
              " (' ', 'SPACE'),\n",
              " ('자연', 'NNG'),\n",
              " ('어', 'NNG'),\n",
              " ('로', 'JKB'),\n",
              " (' ', 'SPACE'),\n",
              " ('기술', 'NNG'),\n",
              " ('되', 'XSV'),\n",
              " ('ᆫ', 'ETM'),\n",
              " (' ', 'SPACE'),\n",
              " ('수식', 'NNG'),\n",
              " (',', 'SC'),\n",
              " (' ', 'SPACE'),\n",
              " ('업무', 'NNG'),\n",
              " ('규칙', 'NNG'),\n",
              " (' ', 'SPACE'),\n",
              " ('등', 'NNB'),\n",
              " ('의', 'JKG'),\n",
              " (' ', 'SPACE'),\n",
              " ('데이터', 'NNG'),\n",
              " ('로부터', 'JKB'),\n",
              " (' ', 'SPACE'),\n",
              " ('학습', 'NNG'),\n",
              " ('을', 'JKO'),\n",
              " (' ', 'SPACE'),\n",
              " ('통하', 'VV'),\n",
              " ('아', 'EC'),\n",
              " (' ', 'SPACE'),\n",
              " ('컴퓨터', 'NNG'),\n",
              " ('에서', 'JKB'),\n",
              " (' ', 'SPACE'),\n",
              " ('작동', 'NNG'),\n",
              " (' ', 'SPACE'),\n",
              " ('가능', 'NNG'),\n",
              " ('하', 'XSA'),\n",
              " ('ᆫ', 'ETM'),\n",
              " (' ', 'SPACE'),\n",
              " ('프로그램', 'NNG'),\n",
              " (' ', 'SPACE'),\n",
              " ('언어', 'NNG'),\n",
              " ('로', 'JKB'),\n",
              " (' ', 'SPACE'),\n",
              " ('자동', 'NNG'),\n",
              " (' ', 'SPACE'),\n",
              " ('변환', 'NNG'),\n",
              " ('이', 'JKS'),\n",
              " (' ', 'SPACE'),\n",
              " ('가능', 'NNG'),\n",
              " ('하', 'XSA'),\n",
              " ('ᆫ', 'ETM'),\n",
              " (' ', 'SPACE'),\n",
              " ('인공', 'NNG'),\n",
              " ('지능', 'NNG'),\n",
              " (' ', 'SPACE'),\n",
              " ('알고리즘', 'NNG'),\n",
              " (' ', 'SPACE'),\n",
              " ('개발', 'NNG'),\n",
              " (' ', 'SPACE'),\n",
              " ('자연', 'NNG'),\n",
              " ('어', 'NNG'),\n",
              " ('로', 'JKB'),\n",
              " (' ', 'SPACE'),\n",
              " ('기술', 'NNG'),\n",
              " ('되', 'XSV'),\n",
              " ('ᆫ', 'ETM'),\n",
              " (' ', 'SPACE'),\n",
              " ('업무', 'NNG'),\n",
              " ('규칙', 'NNG'),\n",
              " ('을', 'JKO'),\n",
              " (' ', 'SPACE'),\n",
              " ('프로그램', 'NNG'),\n",
              " (' ', 'SPACE'),\n",
              " ('언어', 'NNG'),\n",
              " ('로', 'JKB'),\n",
              " (' ', 'SPACE'),\n",
              " ('자동', 'NNG'),\n",
              " (' ', 'SPACE'),\n",
              " ('변환', 'NNG'),\n",
              " ('하', 'XSV'),\n",
              " ('는', 'ETM'),\n",
              " (' ', 'SPACE'),\n",
              " ('인공', 'NNG'),\n",
              " ('지능', 'NNG'),\n",
              " (' ', 'SPACE'),\n",
              " ('모델', 'NNG'),\n",
              " ('을', 'JKO'),\n",
              " (' ', 'SPACE'),\n",
              " ('개발', 'NNG'),\n",
              " ('하', 'XSV'),\n",
              " ('ᄆ', 'ETN'),\n",
              " (' ', 'SPACE'),\n",
              " ('자연', 'NNG'),\n",
              " ('어', 'NNG'),\n",
              " ('로', 'JKB'),\n",
              " (' ', 'SPACE'),\n",
              " ('기술', 'NNG'),\n",
              " ('되', 'XSV'),\n",
              " ('ᆫ', 'ETM'),\n",
              " ('업무', 'NNG'),\n",
              " ('규칙', 'NNG'),\n",
              " (' ', 'SPACE'),\n",
              " ('중', 'NNB'),\n",
              " ('에서', 'JKB'),\n",
              " ('우선', 'NNG'),\n",
              " ('적', 'XSN'),\n",
              " ('으로', 'JKB'),\n",
              " (' ', 'SPACE'),\n",
              " ('문법', 'NNG'),\n",
              " ('적', 'XSN'),\n",
              " ('으로', 'JKB'),\n",
              " (' ', 'SPACE'),\n",
              " ('잘', 'MAG'),\n",
              " (' ', 'SPACE'),\n",
              " ('정의', 'NNG'),\n",
              " ('되', 'XSV'),\n",
              " ('ᆫ', 'ETM'),\n",
              " (' ', 'SPACE'),\n",
              " ('수학', 'NNG'),\n",
              " ('문제', 'NNG'),\n",
              " ('를', 'JKO'),\n",
              " (' ', 'SPACE'),\n",
              " ('인식', 'NNG'),\n",
              " ('하', 'XSV'),\n",
              " ('고', 'EC'),\n",
              " (' ', 'SPACE'),\n",
              " ('이', 'NP'),\n",
              " ('를', 'JKO'),\n",
              " (' ', 'SPACE'),\n",
              " ('프로그램', 'NNG'),\n",
              " (' ', 'SPACE'),\n",
              " ('언어', 'NNG'),\n",
              " ('로', 'JKB'),\n",
              " (' ', 'SPACE'),\n",
              " ('변환', 'NNG'),\n",
              " ('하', 'XSV'),\n",
              " ('는', 'ETM'),\n",
              " (' ', 'SPACE'),\n",
              " ('모델', 'NNG'),\n",
              " ('을', 'JKO'),\n",
              " (' ', 'SPACE'),\n",
              " ('개발', 'NNG'),\n",
              " ('하', 'XSV'),\n",
              " ('ᄆ', 'ETN'),\n",
              " (' ', 'SPACE'),\n",
              " ('자연', 'NNG'),\n",
              " ('어', 'NNG'),\n",
              " (' ', 'SPACE'),\n",
              " ('처리', 'NNG'),\n",
              " ('기술', 'NNG'),\n",
              " (',', 'SC'),\n",
              " (' ', 'SPACE'),\n",
              " ('딥', 'NNG'),\n",
              " ('러닝', 'NNG'),\n",
              " (',', 'SC'),\n",
              " (' ', 'SPACE'),\n",
              " ('인공', 'NNG'),\n",
              " ('지능', 'NNG'),\n",
              " (' ', 'SPACE'),\n",
              " ('분류', 'NNG'),\n",
              " ('모델', 'NNG'),\n",
              " (' ', 'SPACE'),\n",
              " ('기술', 'NNG'),\n",
              " (',', 'SC'),\n",
              " (' ', 'SPACE'),\n",
              " ('프로그램', 'NNG'),\n",
              " ('언어', 'NNG'),\n",
              " (' ', 'SPACE'),\n",
              " ('컴파일', 'NNG'),\n",
              " ('/', 'SC'),\n",
              " ('역', 'NNG'),\n",
              " ('컴파일', 'NNG'),\n",
              " (' ', 'SPACE'),\n",
              " ('기술', 'NNG'),\n",
              " ('을', 'JKO'),\n",
              " (' ', 'SPACE'),\n",
              " ('조합', 'NNG'),\n",
              " ('하', 'XSV'),\n",
              " ('여', 'EC'),\n",
              " (' ', 'SPACE'),\n",
              " ('변환', 'NNG'),\n",
              " ('프로그램', 'NNG'),\n",
              " (' ', 'SPACE'),\n",
              " ('개발', 'NNG'),\n",
              " (' ', 'SPACE'),\n",
              " ('프로그램', 'NNG'),\n",
              " ('언어', 'NNG'),\n",
              " ('의', 'JKG'),\n",
              " (' ', 'SPACE'),\n",
              " ('오퍼레이션', 'NNG'),\n",
              " (' ', 'SPACE'),\n",
              " ('단위', 'NNG'),\n",
              " ('의', 'JKG'),\n",
              " (' ', 'SPACE'),\n",
              " ('내부', 'NNG'),\n",
              " (' ', 'SPACE'),\n",
              " ('코드', 'NNG'),\n",
              " ('를', 'JKO'),\n",
              " (' ', 'SPACE'),\n",
              " ('생성', 'NNG'),\n",
              " ('하', 'XSV'),\n",
              " ('ᆯ', 'ETM'),\n",
              " (' ', 'SPACE'),\n",
              " ('수', 'NNB'),\n",
              " (' ', 'SPACE'),\n",
              " ('있', 'VV'),\n",
              " ('는', 'ETM'),\n",
              " (' ', 'SPACE'),\n",
              " ('기초', 'NNG'),\n",
              " (' ', 'SPACE'),\n",
              " ('기술', 'NNG'),\n",
              " ('을', 'JKO'),\n",
              " (' ', 'SPACE'),\n",
              " ('개발', 'NNG'),\n",
              " ('하', 'XSV'),\n",
              " ('ᄆ', 'ETN'),\n",
              " ('.', 'SF'),\n",
              " (' ', 'SPACE'),\n",
              " ('이', 'NP'),\n",
              " ('를', 'JKO'),\n",
              " (' ', 'SPACE'),\n",
              " ('통하', 'VV'),\n",
              " ('아', 'EC'),\n",
              " (' ', 'SPACE'),\n",
              " ('모델', 'NNG'),\n",
              " ('기반', 'NNG'),\n",
              " (' ', 'SPACE'),\n",
              " ('소프트웨어', 'NNG'),\n",
              " (' ', 'SPACE'),\n",
              " ('개발', 'NNG'),\n",
              " ('과', 'JC'),\n",
              " (' ', 'SPACE'),\n",
              " ('자동', 'NNG'),\n",
              " ('프로그래밍', 'NNG'),\n",
              " ('에', 'JKB'),\n",
              " (' ', 'SPACE'),\n",
              " ('활용', 'NNG'),\n",
              " ('하', 'XSV'),\n",
              " ('ᆯ', 'ETM'),\n",
              " (' ', 'SPACE'),\n",
              " ('수', 'NNB'),\n",
              " (' ', 'SPACE'),\n",
              " ('있', 'VV'),\n",
              " ('는', 'ETM'),\n",
              " (' ', 'SPACE'),\n",
              " ('기술', 'NNG'),\n",
              " ('기반', 'NNG'),\n",
              " (' ', 'SPACE'),\n",
              " ('확보', 'NNG'),\n",
              " ('하', 'XSV'),\n",
              " ('ᄆ', 'ETN'),\n",
              " (' ', 'SPACE'),\n",
              " ('SW', 'SL'),\n",
              " ('개발', 'NNG'),\n",
              " (' ', 'SPACE'),\n",
              " ('시', 'NNB'),\n",
              " (' ', 'SPACE'),\n",
              " ('활용', 'NNG'),\n",
              " ('되', 'XSV'),\n",
              " ('ᆯ', 'ETM'),\n",
              " (' ', 'SPACE'),\n",
              " ('수', 'NNB'),\n",
              " (' ', 'SPACE'),\n",
              " ('있', 'VV'),\n",
              " ('는', 'ETM'),\n",
              " (' ', 'SPACE'),\n",
              " ('국내', 'NNG'),\n",
              " (' ', 'SPACE'),\n",
              " ('자동', 'NNG'),\n",
              " ('코딩', 'NNG'),\n",
              " (' ', 'SPACE'),\n",
              " ('시장', 'NNG'),\n",
              " ('을', 'JKO'),\n",
              " (' ', 'SPACE'),\n",
              " ('개척', 'NNG'),\n",
              " ('하', 'XSV'),\n",
              " ('ᄆ', 'ETN'),\n",
              " (' ', 'SPACE'),\n",
              " ('자동', 'NNG'),\n",
              " (' ', 'SPACE'),\n",
              " ('코딩', 'NNG'),\n",
              " (' ', 'SPACE'),\n",
              " ('클라우드', 'NNP'),\n",
              " (' ', 'SPACE'),\n",
              " ('서비스', 'NNG'),\n",
              " (' ', 'SPACE'),\n",
              " ('형태', 'NNG'),\n",
              " ('로', 'JKB'),\n",
              " (' ', 'SPACE'),\n",
              " ('개발', 'NNG'),\n",
              " ('하', 'XSV'),\n",
              " ('면', 'EC'),\n",
              " (' ', 'SPACE'),\n",
              " ('개발', 'NNG'),\n",
              " (' ', 'SPACE'),\n",
              " ('현장', 'NNG'),\n",
              " ('에서', 'JKB'),\n",
              " (' ', 'SPACE'),\n",
              " ('코딩', 'NNG'),\n",
              " (' ', 'SPACE'),\n",
              " ('생산', 'NNG'),\n",
              " ('성', 'XSN'),\n",
              " ('을', 'JKO'),\n",
              " (' ', 'SPACE'),\n",
              " ('높이', 'VV'),\n",
              " ('고', 'EC'),\n",
              " (',', 'SC'),\n",
              " (' ', 'SPACE'),\n",
              " ('개발', 'NNG'),\n",
              " (' ', 'SPACE'),\n",
              " ('패러다임', 'NNG'),\n",
              " ('을', 'JKO'),\n",
              " (' ', 'SPACE'),\n",
              " ('바꾸', 'VV'),\n",
              " ('ᆯ', 'ETM'),\n",
              " (' ', 'SPACE'),\n",
              " ('수', 'NNB'),\n",
              " (' ', 'SPACE'),\n",
              " ('있', 'VV'),\n",
              " ('음', 'ETN')]"
            ]
          },
          "metadata": {},
          "execution_count": 168
        }
      ]
    },
    {
      "cell_type": "code",
      "metadata": {
        "id": "GmDFr_5eCmWl"
      },
      "source": [
        "for a in list1:\n",
        "  str1 = str(a)\n",
        "  str1 = str1.replace(\"(\", \"\")\n",
        "  str1 = str1.replace(\")\", \"\")\n",
        "  str1 = str1.replace(\"'\", \"\")\n",
        "  str1 = str1.replace(\", \", \"\")\n",
        "\n",
        "  if b in str1:\n",
        "    str1 = str1.replace(\"(\", \"\")\n",
        "    str1 = str1.replace(\")\", \"\")\n",
        "    str1 = str1.replace(\"'\", \"\")\n",
        "    str1 = str1.replace(\", \", \"\")\n",
        "    str1 = str1.replace(\"NNG\", \"\")\n",
        "    list2.append(str1)\n",
        "    \n",
        "  elif c in str1:\n",
        "    str1 = str1.replace(\"(\", \"\")\n",
        "    str1 = str1.replace(\")\", \"\")\n",
        "    str1 = str1.replace(\"'\", \"\")\n",
        "    str1 = str1.replace(\", \", \"\")\n",
        "    str1 = str1.replace(\"NNP\", \"\")\n",
        "    list2.append(str1)"
      ],
      "execution_count": 169,
      "outputs": []
    },
    {
      "cell_type": "code",
      "metadata": {
        "id": "bH6Ni8zSCmZK"
      },
      "source": [
        "list2"
      ],
      "execution_count": null,
      "outputs": []
    },
    {
      "cell_type": "code",
      "metadata": {
        "id": "f-yhiHvBNEB2"
      },
      "source": [
        "dict = []"
      ],
      "execution_count": 171,
      "outputs": []
    },
    {
      "cell_type": "code",
      "metadata": {
        "id": "IPHrylLGO5j1"
      },
      "source": [
        "dict = collections.Counter(list2)"
      ],
      "execution_count": 172,
      "outputs": []
    },
    {
      "cell_type": "code",
      "metadata": {
        "colab": {
          "base_uri": "https://localhost:8080/"
        },
        "id": "OCMSp3xVO-sV",
        "outputId": "742f8cb0-72d0-4606-8b32-317f50817474"
      },
      "source": [
        "print(dict)"
      ],
      "execution_count": 173,
      "outputs": [
        {
          "output_type": "stream",
          "text": [
            "Counter({'개발': 13, '기술': 11, '프로그램': 8, '언어': 7, '자동': 7, '모델': 6, '자연': 5, '어': 5, '변환': 5, '업무': 4, '규칙': 4, '기반': 4, '가능': 3, '활용': 3, '인공': 3, '지능': 3, '코딩': 3, '수식': 2, '데이터': 2, '학습': 2, '컴퓨터': 2, '작동': 2, '오퍼레이션': 2, '단위': 2, '내부': 2, '코드': 2, '생성': 2, '기초': 2, '소프트웨어': 2, '프로그래밍': 2, '확보': 2, '컴파일': 2, '알고리즘': 1, '우선': 1, '문법': 1, '정의': 1, '수학': 1, '문제': 1, '인식': 1, '처리': 1, '딥': 1, '러닝': 1, '분류': 1, '역': 1, '조합': 1, '국내': 1, '시장': 1, '개척': 1, '클라우드': 1, '서비스': 1, '형태': 1, '현장': 1, '생산': 1, '패러다임': 1})\n"
          ],
          "name": "stdout"
        }
      ]
    },
    {
      "cell_type": "code",
      "metadata": {
        "colab": {
          "base_uri": "https://localhost:8080/"
        },
        "id": "kE9L88fUPASc",
        "outputId": "d5bf103a-e126-4858-c7f4-e6e72d340be8"
      },
      "source": [
        "type(dict)"
      ],
      "execution_count": 125,
      "outputs": [
        {
          "output_type": "execute_result",
          "data": {
            "text/plain": [
              "collections.Counter"
            ]
          },
          "metadata": {},
          "execution_count": 125
        }
      ]
    },
    {
      "cell_type": "code",
      "metadata": {
        "id": "J-6a8u7tUscM"
      },
      "source": [
        ""
      ],
      "execution_count": null,
      "outputs": []
    }
  ]
}