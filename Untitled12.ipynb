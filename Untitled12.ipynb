{
  "nbformat": 4,
  "nbformat_minor": 0,
  "metadata": {
    "colab": {
      "name": "Untitled12.ipynb",
      "provenance": [],
      "collapsed_sections": [],
      "authorship_tag": "ABX9TyPfiGvj/D0zpSX2UD54uNEQ",
      "include_colab_link": true
    },
    "kernelspec": {
      "name": "python3",
      "display_name": "Python 3"
    },
    "language_info": {
      "name": "python"
    },
    "accelerator": "GPU"
  },
  "cells": [
    {
      "cell_type": "markdown",
      "metadata": {
        "id": "view-in-github",
        "colab_type": "text"
      },
      "source": [
        "<a href=\"https://colab.research.google.com/github/jwon1991/KoBERT/blob/main/Untitled12.ipynb\" target=\"_parent\"><img src=\"https://colab.research.google.com/assets/colab-badge.svg\" alt=\"Open In Colab\"/></a>"
      ]
    },
    {
      "cell_type": "code",
      "metadata": {
        "id": "SrHOxpo38R63"
      },
      "source": [
        "!pip install pororo"
      ],
      "execution_count": null,
      "outputs": []
    },
    {
      "cell_type": "code",
      "metadata": {
        "id": "gU7ZrhfU8ULR"
      },
      "source": [
        "!git clone https://github.com/kakaobrain/pororo.git"
      ],
      "execution_count": null,
      "outputs": []
    },
    {
      "cell_type": "code",
      "metadata": {
        "colab": {
          "base_uri": "https://localhost:8080/"
        },
        "id": "VdB6HVzP9W1Q",
        "outputId": "cd55b9b3-b436-4520-dead-05fe5984d8b8"
      },
      "source": [
        "cd pororo"
      ],
      "execution_count": 3,
      "outputs": [
        {
          "output_type": "stream",
          "text": [
            "/content/pororo\n"
          ],
          "name": "stdout"
        }
      ]
    },
    {
      "cell_type": "code",
      "metadata": {
        "id": "FGv20Scu9X9X"
      },
      "source": [
        "pip install -e ."
      ],
      "execution_count": null,
      "outputs": []
    },
    {
      "cell_type": "code",
      "metadata": {
        "colab": {
          "base_uri": "https://localhost:8080/"
        },
        "id": "ZJR82C7O9YjP",
        "outputId": "b7d9d0b5-bbe0-44d8-8eb9-d6070708b6cf"
      },
      "source": [
        "from pororo import Pororo"
      ],
      "execution_count": 5,
      "outputs": [
        {
          "output_type": "stream",
          "text": [
            "[Korean Sentence Splitter]: Initializing Kss...\n"
          ],
          "name": "stderr"
        }
      ]
    },
    {
      "cell_type": "code",
      "metadata": {
        "id": "eO9aF70P9ziE"
      },
      "source": [
        "Pororo.available_tasks()"
      ],
      "execution_count": null,
      "outputs": []
    },
    {
      "cell_type": "code",
      "metadata": {
        "colab": {
          "base_uri": "https://localhost:8080/",
          "height": 35
        },
        "id": "iOCAJZC59jBv",
        "outputId": "995b4a69-9d17-404c-90bc-a8a5828596b8"
      },
      "source": [
        "Pororo.available_models(\"collocation\")"
      ],
      "execution_count": 7,
      "outputs": [
        {
          "output_type": "execute_result",
          "data": {
            "application/vnd.google.colaboratory.intrinsic+json": {
              "type": "string"
            },
            "text/plain": [
              "'Available models for collocation are ([lang]: ko, [model]: kollocate), ([lang]: en, [model]: collocate.en), ([lang]: ja, [model]: collocate.ja), ([lang]: zh, [model]: collocate.zh)'"
            ]
          },
          "metadata": {},
          "execution_count": 7
        }
      ]
    },
    {
      "cell_type": "code",
      "metadata": {
        "id": "bXLbqGQg-e2U"
      },
      "source": [
        "pip install -v python-mecab-ko"
      ],
      "execution_count": null,
      "outputs": []
    },
    {
      "cell_type": "code",
      "metadata": {
        "id": "zBiLVa0v_AbQ"
      },
      "source": [
        "import mecab"
      ],
      "execution_count": 10,
      "outputs": []
    },
    {
      "cell_type": "code",
      "metadata": {
        "id": "Ikq9bzEvO3mt"
      },
      "source": [
        "import collections"
      ],
      "execution_count": 11,
      "outputs": []
    },
    {
      "cell_type": "code",
      "metadata": {
        "id": "hnj1HpiNC9uX"
      },
      "source": [
        "mecab = mecab.MeCab()"
      ],
      "execution_count": 12,
      "outputs": []
    },
    {
      "cell_type": "code",
      "metadata": {
        "colab": {
          "base_uri": "https://localhost:8080/"
        },
        "id": "DYyID2DRDBPf",
        "outputId": "2d21e72b-1806-4fa1-f8c4-5599a852c095"
      },
      "source": [
        "mecab.morphs('고성능컴퓨팅 클라우드')"
      ],
      "execution_count": 75,
      "outputs": [
        {
          "output_type": "execute_result",
          "data": {
            "text/plain": [
              "['고', '성능', '컴퓨팅', '클라우드']"
            ]
          },
          "metadata": {},
          "execution_count": 75
        }
      ]
    },
    {
      "cell_type": "code",
      "metadata": {
        "id": "FJWVO7MvDCU-"
      },
      "source": [
        "pos = Pororo(task=\"pos\", lang=\"ko\")"
      ],
      "execution_count": 14,
      "outputs": []
    },
    {
      "cell_type": "code",
      "metadata": {
        "id": "W4iKkPr-Ob_M"
      },
      "source": [
        "b = \"NNG\""
      ],
      "execution_count": 100,
      "outputs": []
    },
    {
      "cell_type": "code",
      "metadata": {
        "id": "NWCJRE2POcBL"
      },
      "source": [
        "c = \"NNP\""
      ],
      "execution_count": 101,
      "outputs": []
    },
    {
      "cell_type": "code",
      "metadata": {
        "id": "JAINzo_PDJw3"
      },
      "source": [
        "list1 = []"
      ],
      "execution_count": 128,
      "outputs": []
    },
    {
      "cell_type": "code",
      "metadata": {
        "id": "kPISBXhsMSAN"
      },
      "source": [
        "list2 = []"
      ],
      "execution_count": 129,
      "outputs": []
    },
    {
      "cell_type": "code",
      "metadata": {
        "id": "hqk69t-wC-p5"
      },
      "source": [
        "str1 = []"
      ],
      "execution_count": 130,
      "outputs": []
    },
    {
      "cell_type": "code",
      "metadata": {
        "id": "wggQlWHOK95N"
      },
      "source": [
        "list1 = pos(\"인공지능 기반 신약개발을 위한 고성능컴퓨팅 클라우드 플랫폼 구축 및 서비스 국내외 다양한 신약개발 관련 데이터들을 수집, 관리, 공유할 뿐 아니라 구축된 화합물 데이터, 가시화, 인공지능, 고성능컴퓨팅, 클라우드 기술들을 융합적으로 활용하여 신약 개발의 연구생산성을 극대화 할 수 있는 빅데이터/인공지능 기반 고성능 클라우드 플랫폼을 개발-제공하여 연구자들이 상용 및 공용 클라우드에서 손쉽게 활용할 수 있게 함은 물론, 국가센터 슈퍼컴퓨터에서 신약개발 연구 개발을 수행할 수 있게 지속적인 서비스 수행\")"
      ],
      "execution_count": 135,
      "outputs": []
    },
    {
      "cell_type": "code",
      "metadata": {
        "id": "KWUDZ_hdIFv8"
      },
      "source": [
        "list1"
      ],
      "execution_count": null,
      "outputs": []
    },
    {
      "cell_type": "code",
      "metadata": {
        "id": "GmDFr_5eCmWl"
      },
      "source": [
        "for a in list1:\n",
        "  str1 = str(a)\n",
        "  str1 = str1.replace(\"(\", \"\")\n",
        "  str1 = str1.replace(\")\", \"\")\n",
        "  str1 = str1.replace(\"'\", \"\")\n",
        "  str1 = str1.replace(\", \", \"\")\n",
        "  if b in str1:\n",
        "    str1 = str1.replace(\"(\", \"\")\n",
        "    str1 = str1.replace(\")\", \"\")\n",
        "    str1 = str1.replace(\"'\", \"\")\n",
        "    str1 = str1.replace(\", \", \"\")\n",
        "    str1 = str1.replace(\"NNG\", \"\")\n",
        "    list2.append(str1)\n",
        "  elif c in str1:\n",
        "    str1 = str1.replace(\"(\", \"\")\n",
        "    str1 = str1.replace(\")\", \"\")\n",
        "    str1 = str1.replace(\"'\", \"\")\n",
        "    str1 = str1.replace(\", \", \"\")\n",
        "    str1 = str1.replace(\"NNP\", \"\")\n",
        "    list2.append(str1)"
      ],
      "execution_count": 137,
      "outputs": []
    },
    {
      "cell_type": "code",
      "metadata": {
        "colab": {
          "base_uri": "https://localhost:8080/"
        },
        "id": "bH6Ni8zSCmZK",
        "outputId": "54ee79fd-ec30-43f4-cb90-5698efffb4ab"
      },
      "source": [
        "list2"
      ],
      "execution_count": 138,
      "outputs": [
        {
          "output_type": "execute_result",
          "data": {
            "text/plain": [
              "['인공',\n",
              " '지능',\n",
              " '기반',\n",
              " '신약',\n",
              " '개발',\n",
              " '성능',\n",
              " '컴퓨팅',\n",
              " '클라우드',\n",
              " '플랫',\n",
              " '폼',\n",
              " '구축',\n",
              " '서비스',\n",
              " '국내',\n",
              " '외',\n",
              " '다양',\n",
              " '신약',\n",
              " '개발',\n",
              " '관련',\n",
              " '데이터',\n",
              " '수집',\n",
              " '관리',\n",
              " '공유',\n",
              " '구축',\n",
              " '화합',\n",
              " '물',\n",
              " '데이터',\n",
              " '가시',\n",
              " '인공',\n",
              " '지능',\n",
              " '성능',\n",
              " '컴퓨팅',\n",
              " '클라우드',\n",
              " '기술',\n",
              " '융합',\n",
              " '활용',\n",
              " '신약',\n",
              " '개발',\n",
              " '연구',\n",
              " '생산',\n",
              " '극대',\n",
              " '빅',\n",
              " '데이터',\n",
              " '인공',\n",
              " '지능',\n",
              " '기반',\n",
              " '성능',\n",
              " '클라우드',\n",
              " '플랫',\n",
              " '폼',\n",
              " '개발',\n",
              " '제공',\n",
              " '연구',\n",
              " '자',\n",
              " '상용',\n",
              " '공용',\n",
              " '클라우드',\n",
              " '활용',\n",
              " '국가',\n",
              " '센터',\n",
              " '슈퍼컴퓨터',\n",
              " '신약',\n",
              " '개발',\n",
              " '연구',\n",
              " '개발',\n",
              " '수행',\n",
              " '지속',\n",
              " '서비스',\n",
              " '수행']"
            ]
          },
          "metadata": {},
          "execution_count": 138
        }
      ]
    },
    {
      "cell_type": "code",
      "metadata": {
        "id": "f-yhiHvBNEB2"
      },
      "source": [
        "dict = []"
      ],
      "execution_count": 139,
      "outputs": []
    },
    {
      "cell_type": "code",
      "metadata": {
        "id": "IPHrylLGO5j1"
      },
      "source": [
        "dict = collections.Counter(list2)"
      ],
      "execution_count": 140,
      "outputs": []
    },
    {
      "cell_type": "code",
      "metadata": {
        "colab": {
          "base_uri": "https://localhost:8080/"
        },
        "id": "OCMSp3xVO-sV",
        "outputId": "edb033cc-19bb-42b0-aa82-8926f6063cc9"
      },
      "source": [
        "print(dict)"
      ],
      "execution_count": 141,
      "outputs": [
        {
          "output_type": "stream",
          "text": [
            "Counter({'개발': 6, '신약': 4, '클라우드': 4, '인공': 3, '지능': 3, '성능': 3, '데이터': 3, '연구': 3, '기반': 2, '컴퓨팅': 2, '플랫': 2, '폼': 2, '구축': 2, '서비스': 2, '활용': 2, '수행': 2, '국내': 1, '외': 1, '다양': 1, '관련': 1, '수집': 1, '관리': 1, '공유': 1, '화합': 1, '물': 1, '가시': 1, '기술': 1, '융합': 1, '생산': 1, '극대': 1, '빅': 1, '제공': 1, '자': 1, '상용': 1, '공용': 1, '국가': 1, '센터': 1, '슈퍼컴퓨터': 1, '지속': 1})\n"
          ],
          "name": "stdout"
        }
      ]
    },
    {
      "cell_type": "code",
      "metadata": {
        "colab": {
          "base_uri": "https://localhost:8080/"
        },
        "id": "kE9L88fUPASc",
        "outputId": "d5bf103a-e126-4858-c7f4-e6e72d340be8"
      },
      "source": [
        "type(dict)"
      ],
      "execution_count": 125,
      "outputs": [
        {
          "output_type": "execute_result",
          "data": {
            "text/plain": [
              "collections.Counter"
            ]
          },
          "metadata": {},
          "execution_count": 125
        }
      ]
    },
    {
      "cell_type": "code",
      "metadata": {
        "id": "J-6a8u7tUscM"
      },
      "source": [
        ""
      ],
      "execution_count": null,
      "outputs": []
    }
  ]
}